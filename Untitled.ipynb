{
 "cells": [
  {
   "cell_type": "code",
   "execution_count": 1,
   "metadata": {},
   "outputs": [],
   "source": [
    "/* eslint-disable no-var */\n",
    "\n",
    "const readline = require('readline');\n",
    "const rl = readline.createInterface({\n",
    "  input: process.stdin,\n",
    "  output: process.stdout\n",
    "})\n",
    "\n",
    "class Room {\n",
    "  constructor () {\n",
    "    this.options = this.createOptions();\n",
    "    this.doorOpen = false;\n",
    "  }\n",
    "\n",
    "  createOptions () {\n",
    "    const options = [] // empty array called options\n",
    "    options.push('1. inspect desk') // adding option 1\n",
    "    options.push('2. try door') // adding option 2\n",
    "    // options == ['1','2']\n",
    "    return options// options ='1. \\n 2. \\n\n",
    "  }\n",
    "\n",
    "  displayOptions () {\n",
    "    this.refreshOptions()\n",
    "    console.log(this.options.join('\\n'))\n",
    "  }\n",
    "\n",
    "  refreshOptions () {\n",
    "    this.createOptions()\n",
    "  }\n",
    "\n",
    "  handleInput (input) {\n",
    "    if (input > this.options.length) {\n",
    "      console.log('error')\n",
    "    } else {\n",
    "      switch (input) {\n",
    "        case 1:\n",
    "          this.inspectDesk()\n",
    "          break\n",
    "        case 2: \n",
    "          this.tryDoor()\n",
    "          break\n",
    "      }\n",
    "    }\n",
    "  }\n",
    "\n",
    "  inspectDesk () {\n",
    "    state = 'desk'\n",
    "  }\n",
    "\n",
    "  tryDoor () {\n",
    "    if (keyFound === true) {\n",
    "      doorOpen = true\n",
    "    } else {\n",
    "      console.log('door cannot be opened')\n",
    "    }\n",
    "  }\n",
    "}\n",
    "\n",
    "class Desk {\n",
    "  constructor () {\n",
    "    this.drawOpen = false\n",
    "    this.options = this.createOptions()\n",
    "  }\n",
    "\n",
    "  createOptions () {\n",
    "    const options = [] // empty array called options\n",
    "    options.push(`1. ${(this.drawOpen) ? 'close' : 'open'} draw`) // adding option 1\n",
    "    options.push('2. inspect room') // adding option 2\n",
    "    return options// options ='1. \\n 2. \\n\n",
    "  } // call refresh options when option 1 selected\n",
    "\n",
    "  refreshOptions () {\n",
    "    this.createOptions()\n",
    "  }\n",
    "\n",
    "  displayOptions () {\n",
    "    this.refreshOptions()\n",
    "    console.log(this.options.join('\\n'))\n",
    "  }\n",
    "\n",
    "  handleInput (input) {\n",
    "    if (input > this.options.length) { // check that input is valid\n",
    "      console.log('error')\n",
    "    } else { // choose which method to call\n",
    "      switch (input) {\n",
    "        case 1:\n",
    "          this.toggleDraw()\n",
    "          break\n",
    "        case 2: this.inspectRoom()\n",
    "          break\n",
    "      }\n",
    "    }\n",
    "  }\n",
    "\n",
    "  toggleDraw (state) {\n",
    "    this.drawOpen = (!(this.drawOpen))\n",
    "    keyFound = true\n",
    "  }\n",
    "\n",
    "  inspectRoom (state) {\n",
    "    state = 'room'\n",
    "  }\n",
    "}\n",
    "\n",
    "function main () {\n",
    "  // initialise game\n",
    "  var objectDict = initialiseObjects()\n",
    "  var state = 'room'\n",
    "  var counter = 0\n",
    "  const INIT_TIME_MS = Date.now() // Could change -> maybe not necessary -> get elapsed time by subtracting date.now() at start and finish\n",
    "  var keyFound = false\n",
    "  // game initialised\n",
    "\n",
    "  // enter game loop\n",
    "  do {\n",
    "    objectDict[state].displayOptions() // displaying updated options for the currently inspected object\n",
    "    // askQuestion(objectDict,state)\n",
    "    readline.question(`What would you like to do? pick between 1 and ${objectDict[state].options.length}`, ans => {\n",
    "      objectDict[state].handleInput(ans)\n",
    "      readline.close()\n",
    "    })\n",
    "    counter++\n",
    "  } while (objectDict.room.doorOpen === false)\n",
    "\n",
    "  // doorOpen set to true -> game is finsihed -> log stats\n",
    "  console.log(\n",
    "    ` Well done, you have escaped in ${counter} moves and it took you ${getElapsedTime(INIT_TIME_MS)} minutes`)\n",
    "}\n",
    "\n",
    "function getElapsedTime (initTime) {\n",
    "  // calculate elapsed time\n",
    "  let eTime = Date.now() - initTime // times in milliseconds at this point\n",
    "  return (eTime / 60000).toFixed(2)\n",
    "}\n",
    "\n",
    "// function askQuestion (objects_dict,state) {\n",
    "//   readline.question(`What would you like to do? pick between 1 and ${objects_dict[state].options.length}`, ans => {\n",
    "//     objects_dict[state].handleInput(ans)\n",
    "//     readline.close()\n",
    "//   })\n",
    "// }\n",
    "\n",
    "function initialiseObjects () {\n",
    "  let objects = {}\n",
    "  objects.room = new Room()\n",
    "  objects.desk = new Desk()\n",
    "  return objects\n",
    "}"
   ]
  },
  {
   "cell_type": "markdown",
   "metadata": {},
   "source": [
    "main()\n",
    "\n",
    "function main () {\n",
    "  // initialise game\n",
    "  var objectDict = initialiseObjects()\n",
    "  var state = 'room'\n",
    "  var counter = 0\n",
    "  const INIT_TIME_MS = Date.now() // Could change -> maybe not necessary -> get elapsed time by subtracting date.now() at start and finish\n",
    "  var keyFound = false\n",
    "  // game initialised\n",
    "\n",
    "  // enter game loop\n",
    "  do {\n",
    "    objectDict[state].displayOptions() // displaying updated options for the currently inspected object\n",
    "    // askQuestion(objectDict,state)\n",
    "    readline.question(`What would you like to do? pick between 1 and ${objectDict[state].options.length}`, ans => {\n",
    "      objectDict[state].handleInput(ans)\n",
    "      readline.close()\n",
    "    })\n",
    "    counter++\n",
    "  } while (objectDict.room.doorOpen === false)\n",
    "\n",
    "  // doorOpen set to true -> game is finsihed -> log stats\n",
    "  console.log(\n",
    "    ` Well done, you have escaped in ${counter} moves and it took you ${getElapsedTime(INIT_TIME_MS)} minutes`)\n",
    "}"
   ]
  },
  {
   "cell_type": "code",
   "execution_count": null,
   "metadata": {},
   "outputs": [],
   "source": [
    "// initialise game\n",
    "var objectDict = initialiseObjects()\n",
    "var state = 'room'\n",
    "var counter = 0\n",
    "const INIT_TIME_MS = Date.now() // Could change -> maybe not necessary -> get elapsed time by subtracting date.now() at start and finish\n",
    "var keyFound = false\n",
    "// game initialised"
   ]
  },
  {
   "cell_type": "code",
   "execution_count": null,
   "metadata": {},
   "outputs": [],
   "source": [
    "console.log(objectDict)\n",
    "console.log(state)\n",
    "console.log(keyFound)"
   ]
  },
  {
   "cell_type": "code",
   "execution_count": null,
   "metadata": {},
   "outputs": [],
   "source": [
    "objectDict[state].displayOptions()"
   ]
  },
  {
   "cell_type": "code",
   "execution_count": null,
   "metadata": {
    "scrolled": true
   },
   "outputs": [],
   "source": [
    "// enter game loop\n",
    " // displaying updated options for the currently inspected object\n",
    "// askQuestion(objectDict,state)\n",
    "rl.question(`What would you like to do? pick between 1 and ${objectDict[state].options.length}`, ans => {\n",
    "    objectDict[state].handleInput(ans)\n",
    "    readline.close()\n",
    "})\n",
    "counter++"
   ]
  },
  {
   "cell_type": "code",
   "execution_count": null,
   "metadata": {},
   "outputs": [],
   "source": [
    "rl.question(`What would you like to do? pick between 1 and ${objectDict[state].options.length}`, ans => {\n",
    "    objectDict[state].handleInput(ans)\n",
    "    readline.close()\n",
    "})"
   ]
  },
  {
   "cell_type": "code",
   "execution_count": 3,
   "metadata": {},
   "outputs": [
    {
     "name": "stdout",
     "output_type": "stream",
     "text": [
      "say input"
     ]
    }
   ],
   "source": [
    "rl.question('say input',(ans) => {\n",
    "    console.log(ans)\n",
    "})"
   ]
  },
  {
   "cell_type": "code",
   "execution_count": null,
   "metadata": {},
   "outputs": [],
   "source": [
    "// enter game loop\n",
    " // displaying updated options for the currently inspected object\n",
    "// askQuestion(objectDict,state)\n",
    "rl.question(`What would you like to do? pick between 1 and ${objectDict[state].options.length}`, ans => {\n",
    "    objectDict[state].handleInput(ans)\n",
    "    readline.close()\n",
    "})"
   ]
  },
  {
   "cell_type": "code",
   "execution_count": null,
   "metadata": {},
   "outputs": [],
   "source": [
    "state=\"room\""
   ]
  },
  {
   "cell_type": "code",
   "execution_count": null,
   "metadata": {},
   "outputs": [],
   "source": [
    "objectDict[state].handleInput(1)"
   ]
  },
  {
   "cell_type": "code",
   "execution_count": null,
   "metadata": {},
   "outputs": [],
   "source": [
    "objectDict[state]"
   ]
  },
  {
   "cell_type": "code",
   "execution_count": null,
   "metadata": {},
   "outputs": [],
   "source": [
    "objectDict[state].handleInput(1)"
   ]
  },
  {
   "cell_type": "code",
   "execution_count": null,
   "metadata": {},
   "outputs": [],
   "source": [
    "objectDict[state]"
   ]
  },
  {
   "cell_type": "code",
   "execution_count": null,
   "metadata": {},
   "outputs": [],
   "source": [
    "console.log(keyFound)"
   ]
  },
  {
   "cell_type": "code",
   "execution_count": null,
   "metadata": {},
   "outputs": [],
   "source": [
    "objectDict['room'].handleInput(2)"
   ]
  },
  {
   "cell_type": "code",
   "execution_count": null,
   "metadata": {},
   "outputs": [],
   "source": [
    "// doorOpen set to true -> game is finsihed -> log stats\n",
    "console.log(\n",
    "` Well done, you have escaped in ${counter} moves and it took you ${getElapsedTime(INIT_TIME_MS)} minutes`)"
   ]
  },
  {
   "cell_type": "code",
   "execution_count": null,
   "metadata": {},
   "outputs": [],
   "source": [
    "console.log(objectDict)"
   ]
  },
  {
   "cell_type": "code",
   "execution_count": null,
   "metadata": {},
   "outputs": [],
   "source": [
    "objectDict[state].displayOptions()"
   ]
  },
  {
   "cell_type": "code",
   "execution_count": null,
   "metadata": {},
   "outputs": [],
   "source": []
  }
 ],
 "metadata": {
  "kernelspec": {
   "display_name": "Javascript (Node.js)",
   "language": "javascript",
   "name": "javascript"
  },
  "language_info": {
   "file_extension": ".js",
   "mimetype": "application/javascript",
   "name": "javascript",
   "version": "10.13.0"
  }
 },
 "nbformat": 4,
 "nbformat_minor": 4
}
